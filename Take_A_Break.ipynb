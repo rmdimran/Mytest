{
 "cells": [
  {
   "cell_type": "markdown",
   "metadata": {},
   "source": [
    "PROGRAM THAT ALLOWS YOU TO TAKE A BREAK & AUTO PLAYS YOUR FAVOURITE YOUTUBE SONG!\n",
    "`````````````````````````````````````````````````````````````````````````````````"
   ]
  },
  {
   "cell_type": "code",
   "execution_count": null,
   "metadata": {},
   "outputs": [],
   "source": [
    "\"\"\" Befor we write the program, lets think what we can do\n",
    "    1. code for waiting x amount of time from current time\n",
    "    2. open a web browser and play some music on youtube \"\"\""
   ]
  },
  {
   "cell_type": "code",
   "execution_count": null,
   "metadata": {},
   "outputs": [],
   "source": [
    "import time\n",
    "import webbrowser\n",
    "\n",
    "break_count = 0\n",
    "total_breaks = 3\n",
    "\n",
    "print(\"The program started on :\"+ time.ctime())  #GETTIG CURRENT TIME OF YOUR COMPUTER\n",
    "\n",
    "while (break_count < total_breaks):\n",
    "    time.sleep(2 * 60 * 60)       #BREAK FOR 2HOURS\n",
    "    webbrowser.open(\"https://www.youtube.com/watch?v=7wtfhZwyrcc\") #OPENS THE WEBSITE LINK\n",
    "    break_count = break_count + 1\n"
   ]
  },
  {
   "cell_type": "code",
   "execution_count": null,
   "metadata": {},
   "outputs": [],
   "source": []
  }
 ],
 "metadata": {
  "kernelspec": {
   "display_name": "Python 3",
   "language": "python",
   "name": "python3"
  },
  "language_info": {
   "codemirror_mode": {
    "name": "ipython",
    "version": 3
   },
   "file_extension": ".py",
   "mimetype": "text/x-python",
   "name": "python",
   "nbconvert_exporter": "python",
   "pygments_lexer": "ipython3",
   "version": "3.6.5"
  }
 },
 "nbformat": 4,
 "nbformat_minor": 2
}
